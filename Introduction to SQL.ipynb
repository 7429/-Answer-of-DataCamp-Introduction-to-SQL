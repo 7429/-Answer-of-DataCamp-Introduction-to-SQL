{
 "cells": [
  {
   "cell_type": "markdown",
   "metadata": {
    "toc": true
   },
   "source": [
    "<h1>Table of Contents<span class=\"tocSkip\"></span></h1>\n",
    "<div class=\"toc\"><ul class=\"toc-item\"><li><span><a href=\"#Selecting-columns\" data-toc-modified-id=\"Selecting-columns-1\"><span class=\"toc-item-num\">1&nbsp;&nbsp;</span>Selecting columns</a></span><ul class=\"toc-item\"><li><span><a href=\"#Onboarding-|-Tables\" data-toc-modified-id=\"Onboarding-|-Tables-1.1\"><span class=\"toc-item-num\">1.1&nbsp;&nbsp;</span>Onboarding | Tables</a></span></li><li><span><a href=\"#Onboarding-|-Query-Result\" data-toc-modified-id=\"Onboarding-|-Query-Result-1.2\"><span class=\"toc-item-num\">1.2&nbsp;&nbsp;</span>Onboarding | Query Result</a></span></li><li><span><a href=\"#Onboarding-|-Errors\" data-toc-modified-id=\"Onboarding-|-Errors-1.3\"><span class=\"toc-item-num\">1.3&nbsp;&nbsp;</span>Onboarding | Errors</a></span></li><li><span><a href=\"#Onboarding-|-Bullet-Exercises\" data-toc-modified-id=\"Onboarding-|-Bullet-Exercises-1.4\"><span class=\"toc-item-num\">1.4&nbsp;&nbsp;</span>Onboarding | Bullet Exercises</a></span></li><li><span><a href=\"#Beginning-your-SQL-journey\" data-toc-modified-id=\"Beginning-your-SQL-journey-1.5\"><span class=\"toc-item-num\">1.5&nbsp;&nbsp;</span>Beginning your SQL journey</a></span></li><li><span><a href=\"#SELECTing-single-columns\" data-toc-modified-id=\"SELECTing-single-columns-1.6\"><span class=\"toc-item-num\">1.6&nbsp;&nbsp;</span>SELECTing single columns</a></span></li><li><span><a href=\"#SELECTing-multiple-columns\" data-toc-modified-id=\"SELECTing-multiple-columns-1.7\"><span class=\"toc-item-num\">1.7&nbsp;&nbsp;</span>SELECTing multiple columns</a></span></li><li><span><a href=\"#SELECT-DISTINCT\" data-toc-modified-id=\"SELECT-DISTINCT-1.8\"><span class=\"toc-item-num\">1.8&nbsp;&nbsp;</span>SELECT DISTINCT</a></span></li><li><span><a href=\"#Learning-to-COUNT\" data-toc-modified-id=\"Learning-to-COUNT-1.9\"><span class=\"toc-item-num\">1.9&nbsp;&nbsp;</span>Learning to COUNT</a></span></li><li><span><a href=\"#Practice-with-COUNT\" data-toc-modified-id=\"Practice-with-COUNT-1.10\"><span class=\"toc-item-num\">1.10&nbsp;&nbsp;</span>Practice with COUNT</a></span></li></ul></li><li><span><a href=\"#Filtering-rows\" data-toc-modified-id=\"Filtering-rows-2\"><span class=\"toc-item-num\">2&nbsp;&nbsp;</span>Filtering rows</a></span><ul class=\"toc-item\"><li><span><a href=\"#Filtering-results\" data-toc-modified-id=\"Filtering-results-2.1\"><span class=\"toc-item-num\">2.1&nbsp;&nbsp;</span>Filtering results</a></span></li><li><span><a href=\"#Simple-filtering-of-numeric-values\" data-toc-modified-id=\"Simple-filtering-of-numeric-values-2.2\"><span class=\"toc-item-num\">2.2&nbsp;&nbsp;</span>Simple filtering of numeric values</a></span></li><li><span><a href=\"#Simple-filtering-of-text\" data-toc-modified-id=\"Simple-filtering-of-text-2.3\"><span class=\"toc-item-num\">2.3&nbsp;&nbsp;</span>Simple filtering of text</a></span></li><li><span><a href=\"#WHERE-AND\" data-toc-modified-id=\"WHERE-AND-2.4\"><span class=\"toc-item-num\">2.4&nbsp;&nbsp;</span>WHERE AND</a></span></li><li><span><a href=\"#WHERE-AND-OR\" data-toc-modified-id=\"WHERE-AND-OR-2.5\"><span class=\"toc-item-num\">2.5&nbsp;&nbsp;</span>WHERE AND OR</a></span></li><li><span><a href=\"#WHERE-AND-OR-(2)\" data-toc-modified-id=\"WHERE-AND-OR-(2)-2.6\"><span class=\"toc-item-num\">2.6&nbsp;&nbsp;</span>WHERE AND OR (2)</a></span></li><li><span><a href=\"#BETWEEN\" data-toc-modified-id=\"BETWEEN-2.7\"><span class=\"toc-item-num\">2.7&nbsp;&nbsp;</span>BETWEEN</a></span></li><li><span><a href=\"#BETWEEN-(2)\" data-toc-modified-id=\"BETWEEN-(2)-2.8\"><span class=\"toc-item-num\">2.8&nbsp;&nbsp;</span>BETWEEN (2)</a></span></li><li><span><a href=\"#WHERE-IN\" data-toc-modified-id=\"WHERE-IN-2.9\"><span class=\"toc-item-num\">2.9&nbsp;&nbsp;</span>WHERE IN</a></span></li><li><span><a href=\"#Introduction-to-NULL-and-IS-NULL\" data-toc-modified-id=\"Introduction-to-NULL-and-IS-NULL-2.10\"><span class=\"toc-item-num\">2.10&nbsp;&nbsp;</span>Introduction to NULL and IS NULL</a></span></li><li><span><a href=\"#NULL-and-IS-NULL\" data-toc-modified-id=\"NULL-and-IS-NULL-2.11\"><span class=\"toc-item-num\">2.11&nbsp;&nbsp;</span>NULL and IS NULL</a></span></li><li><span><a href=\"#LIKE-and-NOT-LIKE\" data-toc-modified-id=\"LIKE-and-NOT-LIKE-2.12\"><span class=\"toc-item-num\">2.12&nbsp;&nbsp;</span>LIKE and NOT LIKE</a></span></li></ul></li><li><span><a href=\"#Aggregate-Functions\" data-toc-modified-id=\"Aggregate-Functions-3\"><span class=\"toc-item-num\">3&nbsp;&nbsp;</span>Aggregate Functions</a></span><ul class=\"toc-item\"><li><span><a href=\"#Aggregate-functions\" data-toc-modified-id=\"Aggregate-functions-3.1\"><span class=\"toc-item-num\">3.1&nbsp;&nbsp;</span>Aggregate functions</a></span></li><li><span><a href=\"#Aggregate-functions-practice\" data-toc-modified-id=\"Aggregate-functions-practice-3.2\"><span class=\"toc-item-num\">3.2&nbsp;&nbsp;</span>Aggregate functions practice</a></span></li><li><span><a href=\"#Combining-aggregate-functions-with-WHERE\" data-toc-modified-id=\"Combining-aggregate-functions-with-WHERE-3.3\"><span class=\"toc-item-num\">3.3&nbsp;&nbsp;</span>Combining aggregate functions with WHERE</a></span></li><li><span><a href=\"#A-note-on-arithmetic\" data-toc-modified-id=\"A-note-on-arithmetic-3.4\"><span class=\"toc-item-num\">3.4&nbsp;&nbsp;</span>A note on arithmetic</a></span></li><li><span><a href=\"#It's-AS-simple-AS-aliasing\" data-toc-modified-id=\"It's-AS-simple-AS-aliasing-3.5\"><span class=\"toc-item-num\">3.5&nbsp;&nbsp;</span>It's AS simple AS aliasing</a></span></li><li><span><a href=\"#Even-more-aliasing\" data-toc-modified-id=\"Even-more-aliasing-3.6\"><span class=\"toc-item-num\">3.6&nbsp;&nbsp;</span>Even more aliasing</a></span></li><li><span><a href=\"#Even-more-aliasing\" data-toc-modified-id=\"Even-more-aliasing-3.7\"><span class=\"toc-item-num\">3.7&nbsp;&nbsp;</span>Even more aliasing</a></span></li></ul></li><li><span><a href=\"#Sorting-and-grouping\" data-toc-modified-id=\"Sorting-and-grouping-4\"><span class=\"toc-item-num\">4&nbsp;&nbsp;</span>Sorting and grouping</a></span><ul class=\"toc-item\"><li><span><a href=\"#ORDER-BY\" data-toc-modified-id=\"ORDER-BY-4.1\"><span class=\"toc-item-num\">4.1&nbsp;&nbsp;</span>ORDER BY</a></span></li><li><span><a href=\"#Sorting-single-columns\" data-toc-modified-id=\"Sorting-single-columns-4.2\"><span class=\"toc-item-num\">4.2&nbsp;&nbsp;</span>Sorting single columns</a></span></li><li><span><a href=\"#Sorting-single-columns-(2)\" data-toc-modified-id=\"Sorting-single-columns-(2)-4.3\"><span class=\"toc-item-num\">4.3&nbsp;&nbsp;</span>Sorting single columns (2)</a></span></li><li><span><a href=\"#Sorting-single-columns-(DESC)\" data-toc-modified-id=\"Sorting-single-columns-(DESC)-4.4\"><span class=\"toc-item-num\">4.4&nbsp;&nbsp;</span>Sorting single columns (DESC)</a></span></li><li><span><a href=\"#Sorting-multiple-columns\" data-toc-modified-id=\"Sorting-multiple-columns-4.5\"><span class=\"toc-item-num\">4.5&nbsp;&nbsp;</span>Sorting multiple columns</a></span></li><li><span><a href=\"#GROUP-BY\" data-toc-modified-id=\"GROUP-BY-4.6\"><span class=\"toc-item-num\">4.6&nbsp;&nbsp;</span>GROUP BY</a></span></li><li><span><a href=\"#GROUP-BY-practice\" data-toc-modified-id=\"GROUP-BY-practice-4.7\"><span class=\"toc-item-num\">4.7&nbsp;&nbsp;</span>GROUP BY practice</a></span></li><li><span><a href=\"#GROUP-BY-practice-(2)\" data-toc-modified-id=\"GROUP-BY-practice-(2)-4.8\"><span class=\"toc-item-num\">4.8&nbsp;&nbsp;</span>GROUP BY practice (2)</a></span></li><li><span><a href=\"#HAVING-a-great-time\" data-toc-modified-id=\"HAVING-a-great-time-4.9\"><span class=\"toc-item-num\">4.9&nbsp;&nbsp;</span>HAVING a great time</a></span></li><li><span><a href=\"#All-together-now\" data-toc-modified-id=\"All-together-now-4.10\"><span class=\"toc-item-num\">4.10&nbsp;&nbsp;</span>All together now</a></span></li><li><span><a href=\"#All-together-now-(2)\" data-toc-modified-id=\"All-together-now-(2)-4.11\"><span class=\"toc-item-num\">4.11&nbsp;&nbsp;</span>All together now (2)</a></span></li><li><span><a href=\"#A-taste-of-things-to-come\" data-toc-modified-id=\"A-taste-of-things-to-come-4.12\"><span class=\"toc-item-num\">4.12&nbsp;&nbsp;</span>A taste of things to come</a></span></li></ul></li></ul></div>"
   ]
  },
  {
   "cell_type": "markdown",
   "metadata": {},
   "source": [
    "# Selecting columns"
   ]
  },
  {
   "cell_type": "markdown",
   "metadata": {},
   "source": [
    "## Onboarding | Tables"
   ]
  },
  {
   "cell_type": "code",
   "execution_count": null,
   "metadata": {},
   "outputs": [],
   "source": [
    "\n",
    "50 Cen"
   ]
  },
  {
   "cell_type": "markdown",
   "metadata": {},
   "source": [
    "## Onboarding | Query Result"
   ]
  },
  {
   "cell_type": "code",
   "execution_count": null,
   "metadata": {},
   "outputs": [],
   "source": [
    "\n",
    "A. Michael Baldwin"
   ]
  },
  {
   "cell_type": "markdown",
   "metadata": {},
   "source": [
    "## Onboarding | Errors"
   ]
  },
  {
   "cell_type": "code",
   "execution_count": null,
   "metadata": {},
   "outputs": [],
   "source": [
    "-- Try running me!\n",
    "SELECT 'DataCamp <3 SQL'\n",
    "AS result;"
   ]
  },
  {
   "cell_type": "markdown",
   "metadata": {},
   "source": [
    "## Onboarding | Bullet Exercises"
   ]
  },
  {
   "cell_type": "code",
   "execution_count": null,
   "metadata": {},
   "outputs": [],
   "source": [
    "SELECT 'SQL'\n",
    "AS result;"
   ]
  },
  {
   "cell_type": "code",
   "execution_count": null,
   "metadata": {},
   "outputs": [],
   "source": [
    "SELECT 'SQL is'\n",
    "AS result;"
   ]
  },
  {
   "cell_type": "code",
   "execution_count": null,
   "metadata": {},
   "outputs": [],
   "source": [
    "SELECT 'SQL is cool'\n",
    "AS result;"
   ]
  },
  {
   "cell_type": "markdown",
   "metadata": {},
   "source": [
    "## Beginning your SQL journey"
   ]
  },
  {
   "cell_type": "code",
   "execution_count": null,
   "metadata": {},
   "outputs": [],
   "source": [
    "4"
   ]
  },
  {
   "cell_type": "markdown",
   "metadata": {},
   "source": [
    "## SELECTing single columns"
   ]
  },
  {
   "cell_type": "code",
   "execution_count": null,
   "metadata": {},
   "outputs": [],
   "source": [
    "SELECT title\n",
    "FROM films\n"
   ]
  },
  {
   "cell_type": "code",
   "execution_count": null,
   "metadata": {},
   "outputs": [],
   "source": [
    "select release_year \n",
    "from films\n"
   ]
  },
  {
   "cell_type": "code",
   "execution_count": null,
   "metadata": {},
   "outputs": [],
   "source": [
    "select name\n",
    "from people"
   ]
  },
  {
   "cell_type": "markdown",
   "metadata": {},
   "source": [
    "## SELECTing multiple columns"
   ]
  },
  {
   "cell_type": "code",
   "execution_count": null,
   "metadata": {},
   "outputs": [],
   "source": [
    "select *\n",
    "from films"
   ]
  },
  {
   "cell_type": "code",
   "execution_count": null,
   "metadata": {},
   "outputs": [],
   "source": [
    "SELECT title, release_year\n",
    "FROM films;"
   ]
  },
  {
   "cell_type": "code",
   "execution_count": null,
   "metadata": {},
   "outputs": [],
   "source": [
    "SELECT *\n",
    "FROM films;"
   ]
  },
  {
   "cell_type": "code",
   "execution_count": null,
   "metadata": {},
   "outputs": [],
   "source": [
    "Select *\n",
    "from films"
   ]
  },
  {
   "cell_type": "markdown",
   "metadata": {},
   "source": [
    "## SELECT DISTINCT"
   ]
  },
  {
   "cell_type": "code",
   "execution_count": null,
   "metadata": {},
   "outputs": [],
   "source": [
    "select distinct country\n",
    "from films"
   ]
  },
  {
   "cell_type": "code",
   "execution_count": null,
   "metadata": {},
   "outputs": [],
   "source": [
    "select distinct certification\n",
    "from films"
   ]
  },
  {
   "cell_type": "code",
   "execution_count": null,
   "metadata": {},
   "outputs": [],
   "source": [
    "select distinct role\n",
    "from roles"
   ]
  },
  {
   "cell_type": "markdown",
   "metadata": {},
   "source": [
    "## Learning to COUNT"
   ]
  },
  {
   "cell_type": "code",
   "execution_count": null,
   "metadata": {},
   "outputs": [],
   "source": [
    "\n",
    "4,968"
   ]
  },
  {
   "cell_type": "markdown",
   "metadata": {},
   "source": [
    "## Practice with COUNT"
   ]
  },
  {
   "cell_type": "code",
   "execution_count": null,
   "metadata": {},
   "outputs": [],
   "source": [
    "select count(*)\n",
    "from people"
   ]
  },
  {
   "cell_type": "code",
   "execution_count": null,
   "metadata": {},
   "outputs": [],
   "source": [
    "SELECT COUNT(birthdate)\n",
    "FROM people;"
   ]
  },
  {
   "cell_type": "code",
   "execution_count": null,
   "metadata": {},
   "outputs": [],
   "source": [
    "SELECT COUNT(distinct birthdate)\n",
    "FROM people;"
   ]
  },
  {
   "cell_type": "code",
   "execution_count": null,
   "metadata": {},
   "outputs": [],
   "source": [
    "select count(distinct language)\n",
    "from films"
   ]
  },
  {
   "cell_type": "code",
   "execution_count": null,
   "metadata": {},
   "outputs": [],
   "source": [
    "select count(distinct country)\n",
    "from films"
   ]
  },
  {
   "cell_type": "markdown",
   "metadata": {},
   "source": [
    "# Filtering rows"
   ]
  },
  {
   "cell_type": "markdown",
   "metadata": {},
   "source": [
    "## Filtering results"
   ]
  },
  {
   "cell_type": "code",
   "execution_count": null,
   "metadata": {},
   "outputs": [],
   "source": [
    "Films released after the year 2000\n",
    "press\n"
   ]
  },
  {
   "cell_type": "markdown",
   "metadata": {},
   "source": [
    "## Simple filtering of numeric values"
   ]
  },
  {
   "cell_type": "code",
   "execution_count": null,
   "metadata": {},
   "outputs": [],
   "source": [
    "select *\n",
    "from films\n",
    "where release_year=2016"
   ]
  },
  {
   "cell_type": "code",
   "execution_count": null,
   "metadata": {},
   "outputs": [],
   "source": [
    "select count(*)\n",
    "from films\n",
    "where release_year<2000"
   ]
  },
  {
   "cell_type": "code",
   "execution_count": null,
   "metadata": {},
   "outputs": [],
   "source": [
    "select *\n",
    "from films\n",
    "where release_year> 2000"
   ]
  },
  {
   "cell_type": "markdown",
   "metadata": {},
   "source": [
    "## Simple filtering of text"
   ]
  },
  {
   "cell_type": "code",
   "execution_count": null,
   "metadata": {},
   "outputs": [],
   "source": [
    "select *\n",
    "from films\n",
    "where language = 'French'"
   ]
  },
  {
   "cell_type": "code",
   "execution_count": null,
   "metadata": {},
   "outputs": [],
   "source": [
    "select birthdate\n",
    "from people\n",
    "where birthdate = '1974-11-11'"
   ]
  },
  {
   "cell_type": "code",
   "execution_count": null,
   "metadata": {},
   "outputs": [],
   "source": [
    "select count(*)\n",
    "from films\n",
    "where language = 'Hindi'"
   ]
  },
  {
   "cell_type": "code",
   "execution_count": null,
   "metadata": {},
   "outputs": [],
   "source": [
    "SELECT *\n",
    "FROM films\n",
    "WHERE certification = 'R';"
   ]
  },
  {
   "cell_type": "markdown",
   "metadata": {},
   "source": [
    "## WHERE AND"
   ]
  },
  {
   "cell_type": "code",
   "execution_count": null,
   "metadata": {},
   "outputs": [],
   "source": [
    "    select *\n",
    "    from films\n",
    "    where language = 'Spanish'\n",
    "    and release_year < 2000"
   ]
  },
  {
   "cell_type": "code",
   "execution_count": null,
   "metadata": {},
   "outputs": [],
   "source": [
    "select *\n",
    "from films\n",
    "where language = 'Spanish'\n",
    "and release_year > 2000"
   ]
  },
  {
   "cell_type": "code",
   "execution_count": null,
   "metadata": {},
   "outputs": [],
   "source": [
    "Select *\n",
    "from films\n",
    "where language = 'Spanish'\n",
    "and release_year > 2000\n",
    "and release_year < 2010"
   ]
  },
  {
   "cell_type": "markdown",
   "metadata": {},
   "source": [
    "## WHERE AND OR"
   ]
  },
  {
   "cell_type": "code",
   "execution_count": null,
   "metadata": {},
   "outputs": [],
   "source": [
    "\n",
    "Display only rows that meet at least one of the specified conditions.\n",
    "press\n"
   ]
  },
  {
   "cell_type": "markdown",
   "metadata": {},
   "source": [
    "## WHERE AND OR (2)"
   ]
  },
  {
   "cell_type": "code",
   "execution_count": null,
   "metadata": {},
   "outputs": [],
   "source": [
    "select *\n",
    "from films\n",
    "where release_year <2000 and release_year>=1990"
   ]
  },
  {
   "cell_type": "code",
   "execution_count": null,
   "metadata": {},
   "outputs": [],
   "source": [
    "SELECT title, release_year\n",
    "FROM films\n",
    "WHERE (release_year >= 1990 AND release_year < 2000)\n",
    "AND (language = 'French' OR language = 'Spanish');"
   ]
  },
  {
   "cell_type": "code",
   "execution_count": null,
   "metadata": {},
   "outputs": [],
   "source": [
    "SELECT title, release_year\n",
    "FROM films\n",
    "WHERE (release_year >= 1990 AND release_year < 2000)\n",
    "AND (language = 'French' OR language = 'Spanish')\n",
    "AND (GROSS > 2000000)"
   ]
  },
  {
   "cell_type": "markdown",
   "metadata": {},
   "source": [
    "## BETWEEN"
   ]
  },
  {
   "cell_type": "code",
   "execution_count": null,
   "metadata": {},
   "outputs": [],
   "source": [
    "Filter values in a specified range\n",
    "press\n"
   ]
  },
  {
   "cell_type": "markdown",
   "metadata": {},
   "source": [
    "## BETWEEN (2)"
   ]
  },
  {
   "cell_type": "code",
   "execution_count": null,
   "metadata": {},
   "outputs": [],
   "source": [
    "select *\n",
    "from films\n",
    "where release_year between 1990 and 2000"
   ]
  },
  {
   "cell_type": "code",
   "execution_count": null,
   "metadata": {},
   "outputs": [],
   "source": [
    "SELECT title, release_year\n",
    "FROM films\n",
    "WHERE release_year BETWEEN 1990 AND 2000\n",
    "and budget > 100000000"
   ]
  },
  {
   "cell_type": "code",
   "execution_count": null,
   "metadata": {},
   "outputs": [],
   "source": [
    "SELECT title, release_year\n",
    "FROM films\n",
    "WHERE release_year BETWEEN 1990 AND 2000\n",
    "AND budget > 100000000\n",
    "and language ='Spanish'"
   ]
  },
  {
   "cell_type": "code",
   "execution_count": null,
   "metadata": {},
   "outputs": [],
   "source": [
    "SELECT title, release_year\n",
    "FROM films\n",
    "WHERE release_year BETWEEN 1990 AND 2000\n",
    "AND budget > 100000000\n",
    "and (language = 'Spanish'or language ='French')\n"
   ]
  },
  {
   "cell_type": "markdown",
   "metadata": {},
   "source": [
    "## WHERE IN"
   ]
  },
  {
   "cell_type": "code",
   "execution_count": null,
   "metadata": {},
   "outputs": [],
   "source": [
    "SELECT title, release_year\n",
    "FROM films\n",
    "WHERE release_year IN (1990, 2000)\n",
    "AND duration > 120;"
   ]
  },
  {
   "cell_type": "code",
   "execution_count": null,
   "metadata": {},
   "outputs": [],
   "source": [
    "SELECT title, language\n",
    "FROM films\n",
    "WHERE language IN ('English', 'Spanish', 'French'); "
   ]
  },
  {
   "cell_type": "code",
   "execution_count": null,
   "metadata": {},
   "outputs": [],
   "source": [
    "select title, certification\n",
    "from films\n",
    "where certification = 'NC-17' or certification = 'R'"
   ]
  },
  {
   "cell_type": "markdown",
   "metadata": {},
   "source": [
    "## Introduction to NULL and IS NULL"
   ]
  },
  {
   "cell_type": "code",
   "execution_count": null,
   "metadata": {},
   "outputs": [],
   "source": [
    "A missing value\n",
    "press\n"
   ]
  },
  {
   "cell_type": "markdown",
   "metadata": {},
   "source": [
    "## NULL and IS NULL"
   ]
  },
  {
   "cell_type": "code",
   "execution_count": null,
   "metadata": {},
   "outputs": [],
   "source": [
    "select name\n",
    "from people\n",
    "where deathdate is null"
   ]
  },
  {
   "cell_type": "code",
   "execution_count": null,
   "metadata": {},
   "outputs": [],
   "source": [
    "select title \n",
    "from films\n",
    "where budget is null"
   ]
  },
  {
   "cell_type": "code",
   "execution_count": null,
   "metadata": {},
   "outputs": [],
   "source": [
    "select count(*)\n",
    "from films\n",
    "where language is null"
   ]
  },
  {
   "cell_type": "markdown",
   "metadata": {},
   "source": [
    "## LIKE and NOT LIKE"
   ]
  },
  {
   "cell_type": "code",
   "execution_count": null,
   "metadata": {},
   "outputs": [],
   "source": [
    "select name\n",
    "from people\n",
    "where name like 'B%'"
   ]
  },
  {
   "cell_type": "code",
   "execution_count": null,
   "metadata": {},
   "outputs": [],
   "source": [
    "select name\n",
    "from people\n",
    "where name like '_r%'"
   ]
  },
  {
   "cell_type": "code",
   "execution_count": null,
   "metadata": {},
   "outputs": [],
   "source": [
    "select name\n",
    "from people \n",
    "where name not like 'A%'"
   ]
  },
  {
   "cell_type": "markdown",
   "metadata": {},
   "source": [
    "# Aggregate Functions"
   ]
  },
  {
   "cell_type": "markdown",
   "metadata": {},
   "source": [
    "## Aggregate functions"
   ]
  },
  {
   "cell_type": "code",
   "execution_count": null,
   "metadata": {},
   "outputs": [],
   "source": [
    "select sum(duration)\n",
    "from films\n"
   ]
  },
  {
   "cell_type": "code",
   "execution_count": null,
   "metadata": {},
   "outputs": [],
   "source": [
    "select avg(duration)\n",
    "from films"
   ]
  },
  {
   "cell_type": "code",
   "execution_count": null,
   "metadata": {},
   "outputs": [],
   "source": [
    "select min(duration)\n",
    "from films"
   ]
  },
  {
   "cell_type": "code",
   "execution_count": null,
   "metadata": {},
   "outputs": [],
   "source": [
    "select max (duration)\n",
    "from films"
   ]
  },
  {
   "cell_type": "markdown",
   "metadata": {},
   "source": [
    "## Aggregate functions practice"
   ]
  },
  {
   "cell_type": "code",
   "execution_count": null,
   "metadata": {},
   "outputs": [],
   "source": [
    "select sum(gross)\n",
    "from films"
   ]
  },
  {
   "cell_type": "code",
   "execution_count": null,
   "metadata": {},
   "outputs": [],
   "source": [
    "select avg (gross)\n",
    "from films"
   ]
  },
  {
   "cell_type": "code",
   "execution_count": null,
   "metadata": {},
   "outputs": [],
   "source": [
    "SELECT MIN(gross)\n",
    "FROM films;"
   ]
  },
  {
   "cell_type": "code",
   "execution_count": null,
   "metadata": {},
   "outputs": [],
   "source": [
    "SELECT MAX(gross)\n",
    "FROM films;"
   ]
  },
  {
   "cell_type": "markdown",
   "metadata": {},
   "source": [
    "## Combining aggregate functions with WHERE"
   ]
  },
  {
   "cell_type": "code",
   "execution_count": null,
   "metadata": {},
   "outputs": [],
   "source": [
    "select sum(gross)\n",
    "from films\n",
    "where release_year >= 2000"
   ]
  },
  {
   "cell_type": "code",
   "execution_count": null,
   "metadata": {},
   "outputs": [],
   "source": [
    "SELECT AVG(gross)\n",
    "FROM films\n",
    "where title LIKE 'A%';"
   ]
  },
  {
   "cell_type": "code",
   "execution_count": null,
   "metadata": {},
   "outputs": [],
   "source": [
    "SELECT MIN(gross)\n",
    "FROM films\n",
    "WHERE release_year = 1994;"
   ]
  },
  {
   "cell_type": "code",
   "execution_count": null,
   "metadata": {},
   "outputs": [],
   "source": [
    "SELECT MAX(gross)\n",
    "FROM films\n",
    "WHERE release_year BETWEEN 2000 AND 2012;"
   ]
  },
  {
   "cell_type": "markdown",
   "metadata": {},
   "source": [
    "## A note on arithmetic"
   ]
  },
  {
   "cell_type": "code",
   "execution_count": null,
   "metadata": {},
   "outputs": [],
   "source": [
    "\n",
    "3"
   ]
  },
  {
   "cell_type": "markdown",
   "metadata": {},
   "source": [
    "## It's AS simple AS aliasing"
   ]
  },
  {
   "cell_type": "code",
   "execution_count": null,
   "metadata": {},
   "outputs": [],
   "source": [
    "SELECT title, gross - budget AS net_profit\n",
    "FROM films;"
   ]
  },
  {
   "cell_type": "code",
   "execution_count": null,
   "metadata": {},
   "outputs": [],
   "source": [
    "select title,duration/60.0 as duration_hours\n",
    "from films "
   ]
  },
  {
   "cell_type": "code",
   "execution_count": null,
   "metadata": {},
   "outputs": [],
   "source": [
    "SELECT AVG(duration) / 60.0 AS avg_duration_hours  \n",
    "FROM films;"
   ]
  },
  {
   "cell_type": "markdown",
   "metadata": {},
   "source": [
    "## Even more aliasing"
   ]
  },
  {
   "cell_type": "code",
   "execution_count": null,
   "metadata": {},
   "outputs": [],
   "source": [
    "-- get the count(deathdate) and multiply by 100.0\n",
    "-- then divide by count(*) \n",
    "SELECT COUNT(deathdate) * 100.0 / COUNT(*) AS percentage_dead\n",
    "FROM people;"
   ]
  },
  {
   "cell_type": "markdown",
   "metadata": {},
   "source": [
    "## Even more aliasing"
   ]
  },
  {
   "cell_type": "code",
   "execution_count": null,
   "metadata": {},
   "outputs": [],
   "source": [
    "SELECT MAX(release_year) - MIN(release_year)\n",
    "AS difference\n",
    "FROM films;"
   ]
  },
  {
   "cell_type": "code",
   "execution_count": null,
   "metadata": {},
   "outputs": [],
   "source": [
    "SELECT (MAX(release_year) - MIN(release_year)) / 10.0\n",
    "AS number_of_decades\n",
    "FROM films;"
   ]
  },
  {
   "cell_type": "markdown",
   "metadata": {},
   "source": [
    "# Sorting and grouping"
   ]
  },
  {
   "cell_type": "markdown",
   "metadata": {},
   "source": [
    "## ORDER BY"
   ]
  },
  {
   "cell_type": "code",
   "execution_count": null,
   "metadata": {},
   "outputs": [],
   "source": [
    "\n",
    "Alphabetically (A-Z)\n",
    "press\n"
   ]
  },
  {
   "cell_type": "markdown",
   "metadata": {},
   "source": [
    "## Sorting single columns"
   ]
  },
  {
   "cell_type": "code",
   "execution_count": null,
   "metadata": {},
   "outputs": [],
   "source": [
    "select name\n",
    "from people\n",
    "order by name asc"
   ]
  },
  {
   "cell_type": "code",
   "execution_count": null,
   "metadata": {},
   "outputs": [],
   "source": [
    "select name \n",
    "from people\n",
    "order by birthdate "
   ]
  },
  {
   "cell_type": "code",
   "execution_count": null,
   "metadata": {},
   "outputs": [],
   "source": [
    "select birthdate, name\n",
    "from people\n",
    "order by birthdate"
   ]
  },
  {
   "cell_type": "markdown",
   "metadata": {},
   "source": [
    "## Sorting single columns (2)"
   ]
  },
  {
   "cell_type": "code",
   "execution_count": null,
   "metadata": {},
   "outputs": [],
   "source": [
    "select title \n",
    "from films \n",
    "where release_year =2000\n",
    "or release_year = 2012\n",
    "order by release_year"
   ]
  },
  {
   "cell_type": "code",
   "execution_count": null,
   "metadata": {},
   "outputs": [],
   "source": [
    "select *\n",
    "from films\n",
    "where release_year <> 2015\n",
    "order by duration "
   ]
  },
  {
   "cell_type": "code",
   "execution_count": null,
   "metadata": {},
   "outputs": [],
   "source": [
    "SELECT title, gross\n",
    "FROM films\n",
    "WHERE title LIKE 'M%'\n",
    "ORDER BY title;"
   ]
  },
  {
   "cell_type": "markdown",
   "metadata": {},
   "source": [
    "## Sorting single columns (DESC)"
   ]
  },
  {
   "cell_type": "code",
   "execution_count": null,
   "metadata": {},
   "outputs": [],
   "source": [
    "select imdb_score, film_id\n",
    "from reviews\n",
    "order by imdb_score desc"
   ]
  },
  {
   "cell_type": "code",
   "execution_count": null,
   "metadata": {},
   "outputs": [],
   "source": [
    "select title \n",
    "from films\n",
    "order by title desc"
   ]
  },
  {
   "cell_type": "code",
   "execution_count": null,
   "metadata": {},
   "outputs": [],
   "source": [
    "select title, duration \n",
    "from films\n",
    "order by duration desc"
   ]
  },
  {
   "cell_type": "markdown",
   "metadata": {},
   "source": [
    "## Sorting multiple columns"
   ]
  },
  {
   "cell_type": "code",
   "execution_count": null,
   "metadata": {},
   "outputs": [],
   "source": [
    "select birthdate, name\n",
    "from people\n",
    "order by birthdate, name asc"
   ]
  },
  {
   "cell_type": "code",
   "execution_count": null,
   "metadata": {},
   "outputs": [],
   "source": [
    "select release_year, duration, title\n",
    "from films\n",
    "order by release_year, duration "
   ]
  },
  {
   "cell_type": "code",
   "execution_count": null,
   "metadata": {},
   "outputs": [],
   "source": [
    "select certification, release_year, title\n",
    "from films\n",
    "order by certification, release_year asc"
   ]
  },
  {
   "cell_type": "code",
   "execution_count": null,
   "metadata": {},
   "outputs": [],
   "source": [
    "select name, birthdate\n",
    "from people\n",
    "order by name, birthdate"
   ]
  },
  {
   "cell_type": "markdown",
   "metadata": {},
   "source": [
    "## GROUP BY"
   ]
  },
  {
   "cell_type": "code",
   "execution_count": null,
   "metadata": {},
   "outputs": [],
   "source": [
    "\n",
    "Performing operations by group\n",
    "press\n"
   ]
  },
  {
   "cell_type": "markdown",
   "metadata": {},
   "source": [
    "## GROUP BY practice"
   ]
  },
  {
   "cell_type": "code",
   "execution_count": null,
   "metadata": {},
   "outputs": [],
   "source": [
    "select release_year, count(*)\n",
    "from films\n",
    "group by release_year"
   ]
  },
  {
   "cell_type": "code",
   "execution_count": null,
   "metadata": {},
   "outputs": [],
   "source": [
    "select release_year, avg(duration)\n",
    "from films\n",
    "group by release_year"
   ]
  },
  {
   "cell_type": "code",
   "execution_count": null,
   "metadata": {},
   "outputs": [],
   "source": [
    "select release_year, max(budget)\n",
    "from films\n",
    "group by release_year"
   ]
  },
  {
   "cell_type": "code",
   "execution_count": null,
   "metadata": {},
   "outputs": [],
   "source": [
    "SELECT imdb_score, COUNT(*)\n",
    "FROM reviews\n",
    "GROUP BY imdb_score;"
   ]
  },
  {
   "cell_type": "markdown",
   "metadata": {},
   "source": [
    "## GROUP BY practice (2)"
   ]
  },
  {
   "cell_type": "code",
   "execution_count": null,
   "metadata": {},
   "outputs": [],
   "source": [
    "select release_year, min(gross)\n",
    "from films\n",
    "group by release_year"
   ]
  },
  {
   "cell_type": "code",
   "execution_count": null,
   "metadata": {},
   "outputs": [],
   "source": [
    "select language, sum (gross)\n",
    "from films\n",
    "group by language"
   ]
  },
  {
   "cell_type": "code",
   "execution_count": null,
   "metadata": {},
   "outputs": [],
   "source": [
    "select country, sum(budget)\n",
    "from films\n",
    "group by country"
   ]
  },
  {
   "cell_type": "code",
   "execution_count": null,
   "metadata": {},
   "outputs": [],
   "source": [
    "select release_year, country, max(budget)\n",
    "from films\n",
    "group by release_year, country\n",
    "order by release_year, country"
   ]
  },
  {
   "cell_type": "code",
   "execution_count": null,
   "metadata": {},
   "outputs": [],
   "source": [
    "select country, release_year, min(gross)\n",
    "from films\n",
    "group by release_year, country\n",
    "order by country, release_year"
   ]
  },
  {
   "cell_type": "markdown",
   "metadata": {},
   "source": [
    "## HAVING a great time"
   ]
  },
  {
   "cell_type": "code",
   "execution_count": null,
   "metadata": {},
   "outputs": [],
   "source": [
    "13"
   ]
  },
  {
   "cell_type": "markdown",
   "metadata": {},
   "source": [
    "## All together now"
   ]
  },
  {
   "cell_type": "code",
   "execution_count": null,
   "metadata": {},
   "outputs": [],
   "source": [
    "select release_year, budget, gross\n",
    "from films"
   ]
  },
  {
   "cell_type": "code",
   "execution_count": null,
   "metadata": {},
   "outputs": [],
   "source": [
    "SELECT release_year, budget, gross\n",
    "FROM films\n",
    "WHERE release_year > 1990;"
   ]
  },
  {
   "cell_type": "code",
   "execution_count": null,
   "metadata": {},
   "outputs": [],
   "source": [
    "SELECT release_year\n",
    "FROM films\n",
    "where release_year>1990\n",
    "group by release_year"
   ]
  },
  {
   "cell_type": "code",
   "execution_count": null,
   "metadata": {},
   "outputs": [],
   "source": [
    "SELECT release_year, AVG(budget) AS avg_budget, AVG(gross) AS avg_gross\n",
    "FROM films\n",
    "WHERE release_year > 1990\n",
    "GROUP BY release_year;"
   ]
  },
  {
   "cell_type": "code",
   "execution_count": null,
   "metadata": {},
   "outputs": [],
   "source": [
    "SELECT release_year, AVG(budget) AS avg_budget, AVG(gross) AS avg_gross\n",
    "FROM films\n",
    "WHERE release_year > 1990\n",
    "GROUP BY release_year\n",
    "HAVING AVG(budget) > 60000000;"
   ]
  },
  {
   "cell_type": "code",
   "execution_count": null,
   "metadata": {},
   "outputs": [],
   "source": [
    "SELECT release_year, AVG(budget) AS avg_budget, AVG(gross) AS avg_gross\n",
    "FROM films\n",
    "WHERE release_year > 1990\n",
    "GROUP BY release_year\n",
    "HAVING AVG(budget) > 60000000\n",
    "order by avg(gross) desc"
   ]
  },
  {
   "cell_type": "markdown",
   "metadata": {},
   "source": [
    "## All together now (2)"
   ]
  },
  {
   "cell_type": "code",
   "execution_count": null,
   "metadata": {},
   "outputs": [],
   "source": [
    "select country, Avg(budget) as avg_budget, avg(gross) as avg_gross\n",
    "from films\n",
    "group by country \n",
    "having count(title)>10\n",
    "order by country \n",
    "limit 5\n",
    "-- select country, average budget, \n",
    "--     and average gross\n",
    "\n",
    "-- from the films table\n",
    "\n",
    "-- group by country \n",
    "\n",
    "-- where the country has more than 10 titles\n",
    "\n",
    "-- order by country\n",
    "\n",
    "-- limit to only show 5 results"
   ]
  },
  {
   "cell_type": "markdown",
   "metadata": {},
   "source": [
    "## A taste of things to come"
   ]
  },
  {
   "cell_type": "code",
   "execution_count": null,
   "metadata": {},
   "outputs": [],
   "source": [
    "SELECT title, imdb_score\n",
    "FROM films\n",
    "JOIN reviews\n",
    "ON films.id = reviews.film_id\n",
    "WHERE title = 'To Kill a Mockingbird';"
   ]
  },
  {
   "cell_type": "code",
   "execution_count": null,
   "metadata": {},
   "outputs": [],
   "source": [
    "8.4"
   ]
  },
  {
   "cell_type": "code",
   "execution_count": null,
   "metadata": {},
   "outputs": [],
   "source": []
  }
 ],
 "metadata": {
  "kernelspec": {
   "display_name": "Python 3",
   "language": "python",
   "name": "python3"
  },
  "language_info": {
   "codemirror_mode": {
    "name": "ipython",
    "version": 3
   },
   "file_extension": ".py",
   "mimetype": "text/x-python",
   "name": "python",
   "nbconvert_exporter": "python",
   "pygments_lexer": "ipython3",
   "version": "3.7.6"
  },
  "toc": {
   "base_numbering": 1,
   "nav_menu": {},
   "number_sections": true,
   "sideBar": true,
   "skip_h1_title": false,
   "title_cell": "Table of Contents",
   "title_sidebar": "Contents",
   "toc_cell": true,
   "toc_position": {},
   "toc_section_display": true,
   "toc_window_display": false
  }
 },
 "nbformat": 4,
 "nbformat_minor": 4
}
